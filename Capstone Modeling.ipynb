{
 "cells": [
  {
   "cell_type": "markdown",
   "metadata": {},
   "source": [
    "\n",
    "## Machine Learning: Classification"
   ]
  },
  {
   "cell_type": "code",
   "execution_count": 1,
   "metadata": {},
   "outputs": [],
   "source": [
    "import pandas as pd\n",
    "import numpy as np\n",
    "import matplotlib.pyplot as plt\n",
    "import warnings\n",
    "import seaborn as sns\n",
    "from sklearn.model_selection import train_test_split\n",
    "from sklearn.model_selection import cross_val_score\n",
    "from sklearn.model_selection import KFold\n",
    "from sklearn.metrics import accuracy_score\n",
    "from sklearn.metrics import confusion_matrix\n",
    "import pylab as pl\n",
    "from sklearn.linear_model import LogisticRegression\n",
    "from sklearn.neighbors import KNeighborsClassifier\n",
    "from sklearn.naive_bayes import GaussianNB\n",
    "from sklearn.ensemble import RandomForestClassifier\n",
    "from sklearn import datasets, model_selection, tree, preprocessing, metrics, linear_model\n",
    "from sklearn.model_selection import GridSearchCV\n",
    "from sklearn.metrics import roc_auc_score\n",
    "from sklearn.svm import SVC\n",
    "from sklearn.ensemble import GradientBoostingClassifier\n",
    "from sklearn.gaussian_process.kernels import RBF\n",
    "from sklearn.neural_network import MLPClassifier\n",
    "from scipy.stats import randint as sp_randint\n",
    "warnings.filterwarnings('ignore')\n",
    "linkname = 'bank_cleaned.csv'\n",
    "dataset = pd.read_csv(linkname)\n",
    "dataset = dataset.drop(['Unnamed: 0'], axis=1)\n",
    "term_deposit = dataset.copy()"
   ]
  },
  {
   "cell_type": "code",
   "execution_count": 2,
   "metadata": {},
   "outputs": [
    {
     "data": {
      "text/html": [
       "<div>\n",
       "<style scoped>\n",
       "    .dataframe tbody tr th:only-of-type {\n",
       "        vertical-align: middle;\n",
       "    }\n",
       "\n",
       "    .dataframe tbody tr th {\n",
       "        vertical-align: top;\n",
       "    }\n",
       "\n",
       "    .dataframe thead th {\n",
       "        text-align: right;\n",
       "    }\n",
       "</style>\n",
       "<table border=\"1\" class=\"dataframe\">\n",
       "  <thead>\n",
       "    <tr style=\"text-align: right;\">\n",
       "      <th></th>\n",
       "      <th>age</th>\n",
       "      <th>job</th>\n",
       "      <th>marital</th>\n",
       "      <th>education</th>\n",
       "      <th>default</th>\n",
       "      <th>balance</th>\n",
       "      <th>housing</th>\n",
       "      <th>loan</th>\n",
       "      <th>day</th>\n",
       "      <th>month</th>\n",
       "      <th>duration</th>\n",
       "      <th>campaign</th>\n",
       "      <th>pdays</th>\n",
       "      <th>previous</th>\n",
       "      <th>poutcome</th>\n",
       "      <th>response</th>\n",
       "      <th>response_binary</th>\n",
       "      <th>month_int</th>\n",
       "      <th>age_group</th>\n",
       "      <th>balance_group</th>\n",
       "    </tr>\n",
       "  </thead>\n",
       "  <tbody>\n",
       "    <tr>\n",
       "      <th>0</th>\n",
       "      <td>58</td>\n",
       "      <td>management</td>\n",
       "      <td>married</td>\n",
       "      <td>tertiary</td>\n",
       "      <td>no</td>\n",
       "      <td>2143</td>\n",
       "      <td>yes</td>\n",
       "      <td>no</td>\n",
       "      <td>5</td>\n",
       "      <td>may</td>\n",
       "      <td>4.35</td>\n",
       "      <td>1</td>\n",
       "      <td>-1</td>\n",
       "      <td>0</td>\n",
       "      <td>unknown</td>\n",
       "      <td>no</td>\n",
       "      <td>0</td>\n",
       "      <td>5.0</td>\n",
       "      <td>50.0</td>\n",
       "      <td>average balance</td>\n",
       "    </tr>\n",
       "    <tr>\n",
       "      <th>1</th>\n",
       "      <td>44</td>\n",
       "      <td>technician</td>\n",
       "      <td>single</td>\n",
       "      <td>secondary</td>\n",
       "      <td>no</td>\n",
       "      <td>29</td>\n",
       "      <td>yes</td>\n",
       "      <td>no</td>\n",
       "      <td>5</td>\n",
       "      <td>may</td>\n",
       "      <td>2.52</td>\n",
       "      <td>1</td>\n",
       "      <td>-1</td>\n",
       "      <td>0</td>\n",
       "      <td>unknown</td>\n",
       "      <td>no</td>\n",
       "      <td>0</td>\n",
       "      <td>5.0</td>\n",
       "      <td>40.0</td>\n",
       "      <td>low balance</td>\n",
       "    </tr>\n",
       "    <tr>\n",
       "      <th>2</th>\n",
       "      <td>33</td>\n",
       "      <td>entrepreneur</td>\n",
       "      <td>married</td>\n",
       "      <td>secondary</td>\n",
       "      <td>no</td>\n",
       "      <td>2</td>\n",
       "      <td>yes</td>\n",
       "      <td>yes</td>\n",
       "      <td>5</td>\n",
       "      <td>may</td>\n",
       "      <td>1.27</td>\n",
       "      <td>1</td>\n",
       "      <td>-1</td>\n",
       "      <td>0</td>\n",
       "      <td>unknown</td>\n",
       "      <td>no</td>\n",
       "      <td>0</td>\n",
       "      <td>5.0</td>\n",
       "      <td>30.0</td>\n",
       "      <td>low balance</td>\n",
       "    </tr>\n",
       "    <tr>\n",
       "      <th>3</th>\n",
       "      <td>35</td>\n",
       "      <td>management</td>\n",
       "      <td>married</td>\n",
       "      <td>tertiary</td>\n",
       "      <td>no</td>\n",
       "      <td>231</td>\n",
       "      <td>yes</td>\n",
       "      <td>no</td>\n",
       "      <td>5</td>\n",
       "      <td>may</td>\n",
       "      <td>2.32</td>\n",
       "      <td>1</td>\n",
       "      <td>-1</td>\n",
       "      <td>0</td>\n",
       "      <td>unknown</td>\n",
       "      <td>no</td>\n",
       "      <td>0</td>\n",
       "      <td>5.0</td>\n",
       "      <td>30.0</td>\n",
       "      <td>low balance</td>\n",
       "    </tr>\n",
       "    <tr>\n",
       "      <th>4</th>\n",
       "      <td>28</td>\n",
       "      <td>management</td>\n",
       "      <td>single</td>\n",
       "      <td>tertiary</td>\n",
       "      <td>no</td>\n",
       "      <td>447</td>\n",
       "      <td>yes</td>\n",
       "      <td>yes</td>\n",
       "      <td>5</td>\n",
       "      <td>may</td>\n",
       "      <td>3.62</td>\n",
       "      <td>1</td>\n",
       "      <td>-1</td>\n",
       "      <td>0</td>\n",
       "      <td>unknown</td>\n",
       "      <td>no</td>\n",
       "      <td>0</td>\n",
       "      <td>5.0</td>\n",
       "      <td>20.0</td>\n",
       "      <td>low balance</td>\n",
       "    </tr>\n",
       "  </tbody>\n",
       "</table>\n",
       "</div>"
      ],
      "text/plain": [
       "   age           job  marital  education default  balance housing loan  day  \\\n",
       "0   58    management  married   tertiary      no     2143     yes   no    5   \n",
       "1   44    technician   single  secondary      no       29     yes   no    5   \n",
       "2   33  entrepreneur  married  secondary      no        2     yes  yes    5   \n",
       "3   35    management  married   tertiary      no      231     yes   no    5   \n",
       "4   28    management   single   tertiary      no      447     yes  yes    5   \n",
       "\n",
       "  month  duration  campaign  pdays  previous poutcome response  \\\n",
       "0   may      4.35         1     -1         0  unknown       no   \n",
       "1   may      2.52         1     -1         0  unknown       no   \n",
       "2   may      1.27         1     -1         0  unknown       no   \n",
       "3   may      2.32         1     -1         0  unknown       no   \n",
       "4   may      3.62         1     -1         0  unknown       no   \n",
       "\n",
       "   response_binary  month_int  age_group    balance_group  \n",
       "0                0        5.0       50.0  average balance  \n",
       "1                0        5.0       40.0      low balance  \n",
       "2                0        5.0       30.0      low balance  \n",
       "3                0        5.0       30.0      low balance  \n",
       "4                0        5.0       20.0      low balance  "
      ]
     },
     "execution_count": 2,
     "metadata": {},
     "output_type": "execute_result"
    }
   ],
   "source": [
    "dataset.head()"
   ]
  },
  {
   "cell_type": "markdown",
   "metadata": {},
   "source": [
    "### Prepare Data for Classification"
   ]
  },
  {
   "cell_type": "code",
   "execution_count": 3,
   "metadata": {},
   "outputs": [
    {
     "data": {
      "text/html": [
       "<div>\n",
       "<style scoped>\n",
       "    .dataframe tbody tr th:only-of-type {\n",
       "        vertical-align: middle;\n",
       "    }\n",
       "\n",
       "    .dataframe tbody tr th {\n",
       "        vertical-align: top;\n",
       "    }\n",
       "\n",
       "    .dataframe thead th {\n",
       "        text-align: right;\n",
       "    }\n",
       "</style>\n",
       "<table border=\"1\" class=\"dataframe\">\n",
       "  <thead>\n",
       "    <tr style=\"text-align: right;\">\n",
       "      <th></th>\n",
       "      <th>age</th>\n",
       "      <th>job</th>\n",
       "      <th>default</th>\n",
       "      <th>balance</th>\n",
       "      <th>housing</th>\n",
       "      <th>loan</th>\n",
       "      <th>day</th>\n",
       "      <th>month</th>\n",
       "      <th>duration</th>\n",
       "      <th>campaign</th>\n",
       "      <th>pdays</th>\n",
       "      <th>previous</th>\n",
       "      <th>poutcome</th>\n",
       "      <th>response</th>\n",
       "      <th>month_int</th>\n",
       "      <th>age_group</th>\n",
       "    </tr>\n",
       "  </thead>\n",
       "  <tbody>\n",
       "    <tr>\n",
       "      <th>0</th>\n",
       "      <td>58</td>\n",
       "      <td>management</td>\n",
       "      <td>no</td>\n",
       "      <td>2143</td>\n",
       "      <td>yes</td>\n",
       "      <td>no</td>\n",
       "      <td>5</td>\n",
       "      <td>may</td>\n",
       "      <td>4.35</td>\n",
       "      <td>1</td>\n",
       "      <td>-1</td>\n",
       "      <td>0</td>\n",
       "      <td>unknown</td>\n",
       "      <td>no</td>\n",
       "      <td>5.0</td>\n",
       "      <td>50.0</td>\n",
       "    </tr>\n",
       "    <tr>\n",
       "      <th>1</th>\n",
       "      <td>44</td>\n",
       "      <td>technician</td>\n",
       "      <td>no</td>\n",
       "      <td>29</td>\n",
       "      <td>yes</td>\n",
       "      <td>no</td>\n",
       "      <td>5</td>\n",
       "      <td>may</td>\n",
       "      <td>2.52</td>\n",
       "      <td>1</td>\n",
       "      <td>-1</td>\n",
       "      <td>0</td>\n",
       "      <td>unknown</td>\n",
       "      <td>no</td>\n",
       "      <td>5.0</td>\n",
       "      <td>40.0</td>\n",
       "    </tr>\n",
       "    <tr>\n",
       "      <th>2</th>\n",
       "      <td>33</td>\n",
       "      <td>entrepreneur</td>\n",
       "      <td>no</td>\n",
       "      <td>2</td>\n",
       "      <td>yes</td>\n",
       "      <td>yes</td>\n",
       "      <td>5</td>\n",
       "      <td>may</td>\n",
       "      <td>1.27</td>\n",
       "      <td>1</td>\n",
       "      <td>-1</td>\n",
       "      <td>0</td>\n",
       "      <td>unknown</td>\n",
       "      <td>no</td>\n",
       "      <td>5.0</td>\n",
       "      <td>30.0</td>\n",
       "    </tr>\n",
       "    <tr>\n",
       "      <th>3</th>\n",
       "      <td>35</td>\n",
       "      <td>management</td>\n",
       "      <td>no</td>\n",
       "      <td>231</td>\n",
       "      <td>yes</td>\n",
       "      <td>no</td>\n",
       "      <td>5</td>\n",
       "      <td>may</td>\n",
       "      <td>2.32</td>\n",
       "      <td>1</td>\n",
       "      <td>-1</td>\n",
       "      <td>0</td>\n",
       "      <td>unknown</td>\n",
       "      <td>no</td>\n",
       "      <td>5.0</td>\n",
       "      <td>30.0</td>\n",
       "    </tr>\n",
       "    <tr>\n",
       "      <th>4</th>\n",
       "      <td>28</td>\n",
       "      <td>management</td>\n",
       "      <td>no</td>\n",
       "      <td>447</td>\n",
       "      <td>yes</td>\n",
       "      <td>yes</td>\n",
       "      <td>5</td>\n",
       "      <td>may</td>\n",
       "      <td>3.62</td>\n",
       "      <td>1</td>\n",
       "      <td>-1</td>\n",
       "      <td>0</td>\n",
       "      <td>unknown</td>\n",
       "      <td>no</td>\n",
       "      <td>5.0</td>\n",
       "      <td>20.0</td>\n",
       "    </tr>\n",
       "    <tr>\n",
       "      <th>...</th>\n",
       "      <td>...</td>\n",
       "      <td>...</td>\n",
       "      <td>...</td>\n",
       "      <td>...</td>\n",
       "      <td>...</td>\n",
       "      <td>...</td>\n",
       "      <td>...</td>\n",
       "      <td>...</td>\n",
       "      <td>...</td>\n",
       "      <td>...</td>\n",
       "      <td>...</td>\n",
       "      <td>...</td>\n",
       "      <td>...</td>\n",
       "      <td>...</td>\n",
       "      <td>...</td>\n",
       "      <td>...</td>\n",
       "    </tr>\n",
       "    <tr>\n",
       "      <th>40836</th>\n",
       "      <td>25</td>\n",
       "      <td>technician</td>\n",
       "      <td>no</td>\n",
       "      <td>505</td>\n",
       "      <td>no</td>\n",
       "      <td>yes</td>\n",
       "      <td>17</td>\n",
       "      <td>nov</td>\n",
       "      <td>6.43</td>\n",
       "      <td>2</td>\n",
       "      <td>-1</td>\n",
       "      <td>0</td>\n",
       "      <td>unknown</td>\n",
       "      <td>yes</td>\n",
       "      <td>11.0</td>\n",
       "      <td>20.0</td>\n",
       "    </tr>\n",
       "    <tr>\n",
       "      <th>40837</th>\n",
       "      <td>51</td>\n",
       "      <td>technician</td>\n",
       "      <td>no</td>\n",
       "      <td>825</td>\n",
       "      <td>no</td>\n",
       "      <td>no</td>\n",
       "      <td>17</td>\n",
       "      <td>nov</td>\n",
       "      <td>16.28</td>\n",
       "      <td>3</td>\n",
       "      <td>-1</td>\n",
       "      <td>0</td>\n",
       "      <td>unknown</td>\n",
       "      <td>yes</td>\n",
       "      <td>11.0</td>\n",
       "      <td>50.0</td>\n",
       "    </tr>\n",
       "    <tr>\n",
       "      <th>40838</th>\n",
       "      <td>71</td>\n",
       "      <td>retired</td>\n",
       "      <td>no</td>\n",
       "      <td>1729</td>\n",
       "      <td>no</td>\n",
       "      <td>no</td>\n",
       "      <td>17</td>\n",
       "      <td>nov</td>\n",
       "      <td>7.60</td>\n",
       "      <td>2</td>\n",
       "      <td>-1</td>\n",
       "      <td>0</td>\n",
       "      <td>unknown</td>\n",
       "      <td>yes</td>\n",
       "      <td>11.0</td>\n",
       "      <td>60.0</td>\n",
       "    </tr>\n",
       "    <tr>\n",
       "      <th>40839</th>\n",
       "      <td>72</td>\n",
       "      <td>retired</td>\n",
       "      <td>no</td>\n",
       "      <td>5715</td>\n",
       "      <td>no</td>\n",
       "      <td>no</td>\n",
       "      <td>17</td>\n",
       "      <td>nov</td>\n",
       "      <td>18.78</td>\n",
       "      <td>5</td>\n",
       "      <td>184</td>\n",
       "      <td>3</td>\n",
       "      <td>success</td>\n",
       "      <td>yes</td>\n",
       "      <td>11.0</td>\n",
       "      <td>60.0</td>\n",
       "    </tr>\n",
       "    <tr>\n",
       "      <th>40840</th>\n",
       "      <td>57</td>\n",
       "      <td>blue-collar</td>\n",
       "      <td>no</td>\n",
       "      <td>668</td>\n",
       "      <td>no</td>\n",
       "      <td>no</td>\n",
       "      <td>17</td>\n",
       "      <td>nov</td>\n",
       "      <td>8.47</td>\n",
       "      <td>4</td>\n",
       "      <td>-1</td>\n",
       "      <td>0</td>\n",
       "      <td>unknown</td>\n",
       "      <td>no</td>\n",
       "      <td>11.0</td>\n",
       "      <td>50.0</td>\n",
       "    </tr>\n",
       "  </tbody>\n",
       "</table>\n",
       "<p>40841 rows × 16 columns</p>\n",
       "</div>"
      ],
      "text/plain": [
       "       age           job default  balance housing loan  day month  duration  \\\n",
       "0       58    management      no     2143     yes   no    5   may      4.35   \n",
       "1       44    technician      no       29     yes   no    5   may      2.52   \n",
       "2       33  entrepreneur      no        2     yes  yes    5   may      1.27   \n",
       "3       35    management      no      231     yes   no    5   may      2.32   \n",
       "4       28    management      no      447     yes  yes    5   may      3.62   \n",
       "...    ...           ...     ...      ...     ...  ...  ...   ...       ...   \n",
       "40836   25    technician      no      505      no  yes   17   nov      6.43   \n",
       "40837   51    technician      no      825      no   no   17   nov     16.28   \n",
       "40838   71       retired      no     1729      no   no   17   nov      7.60   \n",
       "40839   72       retired      no     5715      no   no   17   nov     18.78   \n",
       "40840   57   blue-collar      no      668      no   no   17   nov      8.47   \n",
       "\n",
       "       campaign  pdays  previous poutcome response  month_int  age_group  \n",
       "0             1     -1         0  unknown       no        5.0       50.0  \n",
       "1             1     -1         0  unknown       no        5.0       40.0  \n",
       "2             1     -1         0  unknown       no        5.0       30.0  \n",
       "3             1     -1         0  unknown       no        5.0       30.0  \n",
       "4             1     -1         0  unknown       no        5.0       20.0  \n",
       "...         ...    ...       ...      ...      ...        ...        ...  \n",
       "40836         2     -1         0  unknown      yes       11.0       20.0  \n",
       "40837         3     -1         0  unknown      yes       11.0       50.0  \n",
       "40838         2     -1         0  unknown      yes       11.0       60.0  \n",
       "40839         5    184         3  success      yes       11.0       60.0  \n",
       "40840         4     -1         0  unknown       no       11.0       50.0  \n",
       "\n",
       "[40841 rows x 16 columns]"
      ]
     },
     "execution_count": 3,
     "metadata": {},
     "output_type": "execute_result"
    }
   ],
   "source": [
    "dataset.drop(['marital', 'education', 'balance_group', 'response_binary'],axis=1)"
   ]
  },
  {
   "cell_type": "markdown",
   "metadata": {},
   "source": [
    "#### Select variables relevant to customers\n",
    "\n",
    "The most relevant variables worth considering from this dataset are job, education, age, balance, default record, housing record, and loan record.  The rest of the columns are not worth analyzing or modeling because they are not related to the customers."
   ]
  },
  {
   "cell_type": "code",
   "execution_count": 4,
   "metadata": {},
   "outputs": [
    {
     "data": {
      "image/png": "[encoded data removed]",
      "text/plain": [
       "<Figure size 936x576 with 2 Axes>"
      ]
     },
     "metadata": {
      "needs_background": "light"
     },
     "output_type": "display_data"
    }
   ],
   "source": [
    "from sklearn.preprocessing import StandardScaler, OneHotEncoder, LabelEncoder\n",
    "fig = plt.figure(figsize=(13, 8))\n",
    "dataset['response'] = LabelEncoder().fit_transform(dataset['response'])\n",
    "numeric_df = dataset.select_dtypes(exclude='object')\n",
    "corr_numeric = numeric_df.corr()\n",
    "plt.title(\"Correlation Matrix\", fontsize=14)\n",
    "sns.heatmap(corr_numeric, cbar=True, cmap=\"RdBu_r\")\n",
    "plt.show()"
   ]
  },
  {
   "cell_type": "markdown",
   "metadata": {},
   "source": [
    "#### Transform categorical data into dummy variables\n",
    "\n",
    "The five categorical variables (job, education, default, housing, and loan) are transformed into dummy variables.  These dummy variables are used because categorical variables are not ordinal (numeric).  These variables represent different types rather than levels, so dummy variables are introduced to distinguish the effect of different categories."
   ]
  },
  {
   "cell_type": "code",
   "execution_count": 5,
   "metadata": {},
   "outputs": [],
   "source": [
    "dataset1= pd.get_dummies(dataset, columns=['job'])\n",
    "dataset1['housing'] = dataset['housing'].map({'yes': 1, 'no': 0})\n",
    "dataset1['default'] = dataset['default'].map({'yes': 1, 'no': 0})\n",
    "dataset1['loan'] = dataset['loan'].map({'yes': 1, 'no': 0})\n",
    "dataset_response = pd.DataFrame(dataset['response_binary'])\n",
    "dataset1 = pd.merge(dataset1, dataset_response, left_index=True, right_index=True)"
   ]
  },
  {
   "cell_type": "markdown",
   "metadata": {},
   "source": [
    "#### Feature Selection\n",
    "\n",
    "The first 20 columns, which have the customer statistics, are selected as the features while the last column, 'campaign outcome', is the target."
   ]
  },
  {
   "cell_type": "code",
   "execution_count": 6,
   "metadata": {},
   "outputs": [],
   "source": [
    "array = dataset1.values\n",
    "X = array[:, 0:-1]\n",
    "Y = array[:, -1]"
   ]
  },
  {
   "cell_type": "markdown",
   "metadata": {},
   "source": [
    "### Train/Test split"
   ]
  },
  {
   "cell_type": "code",
   "execution_count": 7,
   "metadata": {},
   "outputs": [
    {
     "data": {
      "text/plain": [
       "yes    0.558752\n",
       "no     0.441248\n",
       "Name: housing, dtype: float64"
      ]
     },
     "execution_count": 7,
     "metadata": {},
     "output_type": "execute_result"
    }
   ],
   "source": [
    "deposit = term_deposit['response']\n",
    "term_deposit.drop(labels=['response'], axis=1, inplace=True)\n",
    "term_deposit.insert(0, 'deposit', deposit)\n",
    "term_deposit.head()\n",
    "# Housing has a -20% correlation, how is it distributed?\n",
    "term_deposit['housing'].value_counts() / len(term_deposit)"
   ]
  },
  {
   "cell_type": "code",
   "execution_count": 8,
   "metadata": {},
   "outputs": [
    {
     "data": {
      "text/plain": [
       "no     0.833525\n",
       "yes    0.166475\n",
       "Name: loan, dtype: float64"
      ]
     },
     "execution_count": 8,
     "metadata": {},
     "output_type": "execute_result"
    }
   ],
   "source": [
    "term_deposit['loan'].value_counts() / len(term_deposit)"
   ]
  },
  {
   "cell_type": "code",
   "execution_count": 9,
   "metadata": {},
   "outputs": [
    {
     "data": {
      "text/plain": [
       "no     0.250067\n",
       "yes    0.049950\n",
       "Name: loan, dtype: float64"
      ]
     },
     "execution_count": 9,
     "metadata": {},
     "output_type": "execute_result"
    }
   ],
   "source": [
    "from sklearn.model_selection import StratifiedShuffleSplit\n",
    "stratified = StratifiedShuffleSplit(n_splits=1, test_size=0.3, random_state=42)\n",
    "for train_set, test_set in stratified.split(term_deposit, term_deposit['loan']):\n",
    "    stratified_train = term_deposit.loc[train_set]\n",
    "    stratified_test = term_deposit.loc[test_set]\n",
    "stratified_train['loan'].value_counts() / len(dataset1)\n",
    "stratified_test['loan'].value_counts() / len(dataset1)"
   ]
  },
  {
   "cell_type": "code",
   "execution_count": 10,
   "metadata": {},
   "outputs": [
    {
     "data": {
      "text/plain": [
       "no     25307\n",
       "yes     3281\n",
       "Name: deposit, dtype: int64"
      ]
     },
     "execution_count": 10,
     "metadata": {},
     "output_type": "execute_result"
    }
   ],
   "source": [
    "train_data = stratified_train\n",
    "test_data = stratified_test\n",
    "train_data.shape\n",
    "test_data.shape\n",
    "train_data['deposit'].value_counts()"
   ]
  },
  {
   "cell_type": "code",
   "execution_count": 11,
   "metadata": {},
   "outputs": [],
   "source": [
    "from sklearn.base import BaseEstimator, TransformerMixin\n",
    "from sklearn.utils import check_array\n",
    "from sklearn.preprocessing import LabelEncoder\n",
    "from scipy import sparse\n",
    "\n",
    "class CategoricalEncoder(BaseEstimator, TransformerMixin):\n",
    "    \n",
    "    def __init__(self, encoding='onehot', categories='auto', dtype=np.float64, handle_unknown='error'):\n",
    "        self.encoding = encoding\n",
    "        self.categories = categories\n",
    "        self.dtype = dtype\n",
    "        self.handle_unknown = handle_unknown\n",
    "        \n",
    "    def fit(self, X, y=None):\n",
    "        if self.encoding not in ['onehot', 'onehot-dense', 'ordinal']:\n",
    "            template = (\"encoding should be either 'onehot', 'onehot-dense' or ordinal, got %s\")\n",
    "            raise ValueError(template % self.handle.unknown)\n",
    "        if self.handle_unknown not in ['error', 'ignore']:\n",
    "            template = (\"handle_unknown should be either 'error' or 'ignore', got %s\")\n",
    "            raise ValueError(template % self.handle.unknown)\n",
    "        if self.encoding == 'ordinal' and self.handle_unknown == 'ignore':\n",
    "            raise ValueError(\"handle_unknown = 'ignore' is not supported for encoding='ordinal'\")\n",
    "        X = check_array(X, dtype=np.object, accept_sparse='csc', copy=True)\n",
    "        n_samples, n_features = X.shape\n",
    "        self._label_encoders_ = [LabelEncoder() for _ in range(n_features)]\n",
    "        for i in range(n_features):\n",
    "            le = self._label_encoders_[i]\n",
    "            Xi = X[:, i]\n",
    "            if self.categories == 'auto':\n",
    "                le.fit(Xi)\n",
    "            else:\n",
    "                valid_mask = np.inid(Xi, self.categories[i])\n",
    "                if not np.all(valid_mask):\n",
    "                    if self.handle_unknown == 'error':\n",
    "                        diff = np.unique(Xi[~valid_mask])\n",
    "                        msg = (\"Found unknown categories {0} in column {1} during fit\".format(diff, i))\n",
    "                        raise ValueError(msg)\n",
    "                    le.classes_ = np.array(np.sort(self.categories[i]))\n",
    "        self.categories_ = [le.classes_ for le in self._label_encoders_]\n",
    "        return self\n",
    "    \n",
    "    def transform(self, X):\n",
    "        X = check_array(X, accept_sparse='csc', dtype=np.object, copy=True)\n",
    "        n_samples, n_features = X.shape\n",
    "        X_int = np.zeros_like(X, dtype=np.int)\n",
    "        X_mask = np.ones_like(X, dtype=np.bool)\n",
    "        for i in range(n_features):\n",
    "            valid_mask = np.in1d(X[:, i], self.categories_[i])\n",
    "            if not np.all(valid_mask):\n",
    "                if self.handle_unknown == 'error':\n",
    "                    diff = np.unique(X[~valid_mask, i])\n",
    "                    msg = (\"Found unknown categories {0} in column {1} during transform\".format(diff, i))\n",
    "                    raise ValueError(msg)\n",
    "                else:\n",
    "                    X_mask[:, i] = valid_mask\n",
    "                    X[:, i][~valid_mask] = self.categories_[i][0]\n",
    "            X_int[:, i] = self._label_encoders_[i].transform(X[:, i])\n",
    "        if self.encoding == 'ordinal':\n",
    "            return X_int.astype(self.dtype, copy=False)\n",
    "        mask = X_mask.ravel()\n",
    "        n_values = [cats.shape[0] for cats in self.categories_]\n",
    "        n_values = np.array([0] + n_values)\n",
    "        indices = np.cumsum(n_values)\n",
    "        column_indices = (X_int + indices[:-1]).ravel()[mask]\n",
    "        row_indices = np.repeat(np.arange(n_samples, dtype=np.int32), n_features)[mask]\n",
    "        data = np.ones(n_samples * n_features)[mask]\n",
    "        out = sparse.csc_matrix((data, (row_indices, column_indices)), shape=(n_samples, indices[-1]), dtype=self.dtype).tocsr()\n",
    "        if self.encoding == 'onehot-dense':\n",
    "            return out.toarray()\n",
    "        else:\n",
    "            return out\n",
    "                    "
   ]
  },
  {
   "cell_type": "code",
   "execution_count": 12,
   "metadata": {},
   "outputs": [],
   "source": [
    "# Class to select numerical or categorical columns since Scikit-Learn\n",
    "# doesn't know how to handle dataframes\n",
    "class DataFrameSelector(BaseEstimator, TransformerMixin):\n",
    "    def __init__(self, attribute_names):\n",
    "        self.attribute_names = attribute_names\n",
    "    def fit(self, X, y=None):\n",
    "        return self\n",
    "    def transform(self, X):\n",
    "        return X[self.attribute_names]"
   ]
  },
  {
   "cell_type": "code",
   "execution_count": 13,
   "metadata": {},
   "outputs": [
    {
     "name": "stdout",
     "output_type": "stream",
     "text": [
      "<class 'pandas.core.frame.DataFrame'>\n",
      "Int64Index: 28588 entries, 12071 to 39543\n",
      "Data columns (total 20 columns):\n",
      " #   Column           Non-Null Count  Dtype  \n",
      "---  ------           --------------  -----  \n",
      " 0   deposit          28588 non-null  object \n",
      " 1   age              28588 non-null  int64  \n",
      " 2   job              28588 non-null  object \n",
      " 3   marital          28588 non-null  object \n",
      " 4   education        28588 non-null  object \n",
      " 5   default          28588 non-null  object \n",
      " 6   balance          28588 non-null  int64  \n",
      " 7   housing          28588 non-null  object \n",
      " 8   loan             28588 non-null  object \n",
      " 9   day              28588 non-null  int64  \n",
      " 10  month            28588 non-null  object \n",
      " 11  duration         28588 non-null  float64\n",
      " 12  campaign         28588 non-null  int64  \n",
      " 13  pdays            28588 non-null  int64  \n",
      " 14  previous         28588 non-null  int64  \n",
      " 15  poutcome         28588 non-null  object \n",
      " 16  response_binary  28588 non-null  int64  \n",
      " 17  month_int        28588 non-null  float64\n",
      " 18  age_group        28588 non-null  float64\n",
      " 19  balance_group    28588 non-null  object \n",
      "dtypes: float64(3), int64(7), object(10)\n",
      "memory usage: 4.6+ MB\n"
     ]
    }
   ],
   "source": [
    "train_data.info()"
   ]
  },
  {
   "cell_type": "code",
   "execution_count": 14,
   "metadata": {},
   "outputs": [],
   "source": [
    "from sklearn.pipeline import Pipeline\n",
    "from sklearn.preprocessing import StandardScaler\n",
    "numerical_pipeline = Pipeline([(\"select_numeric\", DataFrameSelector(['age', 'balance', 'day', 'campaign', 'pdays', 'previous', 'duration'])), (\"std_scaler\", StandardScaler())])\n",
    "categorical_pipeline = Pipeline([(\"select_cat\", DataFrameSelector(['job', 'education', 'marital', 'default', 'housing', 'loan', 'month', 'poutcome', 'age_group', 'balance_group'])), (\"cat_encoder\", CategoricalEncoder(encoding='onehot-dense'))])\n",
    "from sklearn.pipeline import FeatureUnion\n",
    "preprocess_pipeline = FeatureUnion(transformer_list=[(\"numeric_pipeline\", numerical_pipeline), (\"categorical_pipeline\", categorical_pipeline),])"
   ]
  },
  {
   "cell_type": "code",
   "execution_count": 15,
   "metadata": {},
   "outputs": [
    {
     "data": {
      "text/plain": [
       "array([[-0.44260963, -0.18289166, -1.19001471, ...,  0.        ,\n",
       "         1.        ,  0.        ],\n",
       "       [-0.062421  ,  0.09028442, -1.66929455, ...,  0.        ,\n",
       "         0.        ,  0.        ],\n",
       "       [ 0.79300342, -0.39155168,  0.2478248 , ...,  0.        ,\n",
       "         1.        ,  0.        ],\n",
       "       ...,\n",
       "       [ 0.31776763, -0.35377201, -1.19001471, ...,  0.        ,\n",
       "         1.        ,  0.        ],\n",
       "       [ 0.98309774,  0.67557869, -0.47109496, ...,  0.        ,\n",
       "         0.        ,  0.        ],\n",
       "       [ 0.98309774, -0.61706725, -0.23145504, ...,  0.        ,\n",
       "         1.        ,  0.        ]])"
      ]
     },
     "execution_count": 15,
     "metadata": {},
     "output_type": "execute_result"
    }
   ],
   "source": [
    "X_train = preprocess_pipeline.fit_transform(train_data)\n",
    "X_test = preprocess_pipeline.fit_transform(test_data)\n",
    "X_train\n",
    "X_test"
   ]
  },
  {
   "cell_type": "code",
   "execution_count": 16,
   "metadata": {},
   "outputs": [
    {
     "data": {
      "text/plain": [
       "(28588,)"
      ]
     },
     "execution_count": 16,
     "metadata": {},
     "output_type": "execute_result"
    }
   ],
   "source": [
    "y_train = train_data['deposit']\n",
    "y_test = test_data['deposit']\n",
    "y_train.shape"
   ]
  },
  {
   "cell_type": "code",
   "execution_count": 17,
   "metadata": {},
   "outputs": [
    {
     "data": {
      "text/plain": [
       "array([False, False, False, ..., False, False, False])"
      ]
     },
     "execution_count": 17,
     "metadata": {},
     "output_type": "execute_result"
    }
   ],
   "source": [
    "encode = LabelEncoder()\n",
    "y_train = encode.fit_transform(y_train)\n",
    "y_test = encode.fit_transform(y_test)\n",
    "y_train_yes = (y_train == 1)\n",
    "y_train\n",
    "y_train_yes"
   ]
  },
  {
   "cell_type": "code",
   "execution_count": 18,
   "metadata": {},
   "outputs": [],
   "source": [
    "some_instance = X_train[1250]"
   ]
  },
  {
   "cell_type": "markdown",
   "metadata": {},
   "source": [
    "## Compare Classification Algorithms\n",
    "\n",
    "Seven different classification algorithms (Logistical Regression, K-Neighbors Classifier, Ramdom Forest Classifier, GaussianNB, SVM, Graident Boosting, and Neural Network) are used on the dataset and the best scoring one will be used to build the model."
   ]
  },
  {
   "cell_type": "code",
   "execution_count": 19,
   "metadata": {},
   "outputs": [],
   "source": [
    "dict_classifiers = {\n",
    "    'Logisitc Regression': LogisticRegression(),\n",
    "    'Nearest Neighbors': KNeighborsClassifier(),\n",
    "    'Linear SVM': SVC(),\n",
    "    'Gradient Boosting Classifier': GradientBoostingClassifier(),\n",
    "    'Random Forest': RandomForestClassifier(n_estimators=10),\n",
    "    'Neural Net': MLPClassifier(alpha=1),\n",
    "    'Naive Bayes': GaussianNB()\n",
    "}"
   ]
  },
  {
   "cell_type": "code",
   "execution_count": 20,
   "metadata": {},
   "outputs": [],
   "source": [
    "\n",
    "num_classifiers = len(dict_classifiers.keys())\n",
    "def batch_classify(X_train, Y_train, verbose=True):\n",
    "    df_results = pd.DataFrame(data=np.zeros(shape=(num_classifiers, 2)), columns=['classifier', 'train_score'])\n",
    "    count = 0\n",
    "    for key, classifier in dict_classifiers.items():\n",
    "        classifier.fit(X_train, Y_train)\n",
    "        train_score = classifier.score(X_train, Y_train)\n",
    "        df_results.loc[count, 'classifier'] = key\n",
    "        df_results.loc[count, 'train score'] = train_score\n",
    "        if verbose:\n",
    "            print(\"trained {c}\".format(c=key))\n",
    "        count += 1\n",
    "    return df_results"
   ]
  },
  {
   "cell_type": "code",
   "execution_count": 21,
   "metadata": {},
   "outputs": [
    {
     "name": "stdout",
     "output_type": "stream",
     "text": [
      "trained Logisitc Regression\n",
      "trained Nearest Neighbors\n",
      "trained Linear SVM\n",
      "trained Gradient Boosting Classifier\n",
      "trained Random Forest\n",
      "trained Neural Net\n",
      "trained Naive Bayes\n",
      "                     classifier  train_score  train score\n",
      "0           Logisitc Regression          0.0     0.905170\n",
      "1             Nearest Neighbors          0.0     0.923639\n",
      "2                    Linear SVM          0.0     0.917378\n",
      "3  Gradient Boosting Classifier          0.0     0.913600\n",
      "4                 Random Forest          0.0     0.991220\n",
      "5                    Neural Net          0.0     0.904995\n",
      "6                   Naive Bayes          0.0     0.859102\n"
     ]
    }
   ],
   "source": [
    "df_results = batch_classify(X_train, y_train)\n",
    "print(df_results.sort_values(by='train_score', ascending=False))"
   ]
  },
  {
   "cell_type": "code",
   "execution_count": 22,
   "metadata": {},
   "outputs": [],
   "source": [
    "log_reg = LogisticRegression()\n",
    "log_scores = cross_val_score(log_reg, X_train, y_train, cv=3)\n",
    "log_reg_mean = log_scores.mean()\n",
    "\n",
    "svc_clf = SVC()\n",
    "svc_scores = cross_val_score(svc_clf, X_train, y_train, cv=3)\n",
    "svc_mean = svc_scores.mean()\n",
    "\n",
    "knn_clf = KNeighborsClassifier()\n",
    "knn_scores = cross_val_score(knn_clf, X_train, y_train, cv=3)\n",
    "knn_mean = knn_scores.mean()\n",
    "\n",
    "grad_clf = GradientBoostingClassifier()\n",
    "grad_scores = cross_val_score(grad_clf, X_train, y_train, cv=3)\n",
    "grad_mean = grad_scores.mean()\n",
    "\n",
    "rand_clf = RandomForestClassifier(n_estimators=18)\n",
    "rand_scores = cross_val_score(rand_clf, X_train, y_train, cv=3)\n",
    "rand_mean = rand_scores.mean()\n",
    "\n",
    "neural_clf = MLPClassifier(alpha=1)\n",
    "neural_scores = cross_val_score(neural_clf, X_train, y_train, cv=3)\n",
    "neural_mean = neural_scores.mean()\n",
    "\n",
    "nav_clf = GaussianNB()\n",
    "nav_scores = cross_val_score(nav_clf, X_train, y_train, cv=3)\n",
    "nav_mean = nav_scores.mean()\n",
    "\n",
    "d = {'Classifiers': ['Logistic Reg.', 'SVC', 'KNN', 'Grad B CLF', 'Rand FC', 'Neural Classifer', 'Naive Bayes'],\n",
    "    'Cross Validation Mean': [log_reg_mean, svc_mean, knn_mean, grad_mean, rand_mean, neural_mean, nav_mean]}\n",
    "result_df = pd.DataFrame(data=d)"
   ]
  },
  {
   "cell_type": "code",
   "execution_count": 23,
   "metadata": {},
   "outputs": [
    {
     "data": {
      "text/html": [
       "<div>\n",
       "<style scoped>\n",
       "    .dataframe tbody tr th:only-of-type {\n",
       "        vertical-align: middle;\n",
       "    }\n",
       "\n",
       "    .dataframe tbody tr th {\n",
       "        vertical-align: top;\n",
       "    }\n",
       "\n",
       "    .dataframe thead th {\n",
       "        text-align: right;\n",
       "    }\n",
       "</style>\n",
       "<table border=\"1\" class=\"dataframe\">\n",
       "  <thead>\n",
       "    <tr style=\"text-align: right;\">\n",
       "      <th></th>\n",
       "      <th>Classifiers</th>\n",
       "      <th>Cross Validation Mean</th>\n",
       "    </tr>\n",
       "  </thead>\n",
       "  <tbody>\n",
       "    <tr>\n",
       "      <th>3</th>\n",
       "      <td>Grad B CLF</td>\n",
       "      <td>0.906779</td>\n",
       "    </tr>\n",
       "    <tr>\n",
       "      <th>0</th>\n",
       "      <td>Logistic Reg.</td>\n",
       "      <td>0.904261</td>\n",
       "    </tr>\n",
       "    <tr>\n",
       "      <th>4</th>\n",
       "      <td>Rand FC</td>\n",
       "      <td>0.904156</td>\n",
       "    </tr>\n",
       "    <tr>\n",
       "      <th>5</th>\n",
       "      <td>Neural Classifer</td>\n",
       "      <td>0.903561</td>\n",
       "    </tr>\n",
       "    <tr>\n",
       "      <th>1</th>\n",
       "      <td>SVC</td>\n",
       "      <td>0.903036</td>\n",
       "    </tr>\n",
       "    <tr>\n",
       "      <th>2</th>\n",
       "      <td>KNN</td>\n",
       "      <td>0.896250</td>\n",
       "    </tr>\n",
       "    <tr>\n",
       "      <th>6</th>\n",
       "      <td>Naive Bayes</td>\n",
       "      <td>0.858647</td>\n",
       "    </tr>\n",
       "  </tbody>\n",
       "</table>\n",
       "</div>"
      ],
      "text/plain": [
       "        Classifiers  Cross Validation Mean\n",
       "3        Grad B CLF               0.906779\n",
       "0     Logistic Reg.               0.904261\n",
       "4           Rand FC               0.904156\n",
       "5  Neural Classifer               0.903561\n",
       "1               SVC               0.903036\n",
       "2               KNN               0.896250\n",
       "6       Naive Bayes               0.858647"
      ]
     },
     "execution_count": 23,
     "metadata": {},
     "output_type": "execute_result"
    }
   ],
   "source": [
    "result_df = result_df.sort_values(by=['Cross Validation Mean'], ascending=False)\n",
    "result_df\n"
   ]
  },
  {
   "cell_type": "markdown",
   "metadata": {},
   "source": [
    "#### Gradient Boosting is the best performing model.\n",
    "\n",
    "The gradient boosting model has the highest score (0.906), suggesting a high level of strength of this model to classify the customer response given all of the features."
   ]
  },
  {
   "cell_type": "markdown",
   "metadata": {},
   "source": [
    "## Test GB model on test set"
   ]
  },
  {
   "cell_type": "code",
   "execution_count": 24,
   "metadata": {},
   "outputs": [],
   "source": [
    "from sklearn.model_selection import cross_val_predict\n",
    "y_train_pred = cross_val_predict(grad_clf, X_train, y_train, cv=3)"
   ]
  },
  {
   "cell_type": "code",
   "execution_count": 25,
   "metadata": {},
   "outputs": [
    {
     "name": "stdout",
     "output_type": "stream",
     "text": [
      "Gradient Boost Classifier accuracy is 0.91\n"
     ]
    }
   ],
   "source": [
    "grad_clf.fit(X_train, y_train)\n",
    "print(\"Gradient Boost Classifier accuracy is %2.2f\" % accuracy_score(y_train, y_train_pred))"
   ]
  },
  {
   "cell_type": "markdown",
   "metadata": {},
   "source": [
    "### Evaluate the model"
   ]
  },
  {
   "cell_type": "markdown",
   "metadata": {},
   "source": [
    "Accuracy score is the percentage of correct predictions out of all of the predictions made.  This algorithm is 91% accurate, suggesting this model is very strong to classify the customer response given all of the defined customer features."
   ]
  },
  {
   "cell_type": "code",
   "execution_count": 26,
   "metadata": {},
   "outputs": [
    {
     "data": {
      "image/png": "[encoded data removed]",
      "text/plain": [
       "<Figure size 864x576 with 2 Axes>"
      ]
     },
     "metadata": {
      "needs_background": "light"
     },
     "output_type": "display_data"
    }
   ],
   "source": [
    "conf_matrix = confusion_matrix(y_train, y_train_pred)\n",
    "f, ax = plt.subplots(figsize=(12, 8))\n",
    "sns.heatmap(conf_matrix, annot=True, fmt='d', linewidths=.5, ax=ax)\n",
    "plt.title(\"Confusion Matrix\", fontsize=20)\n",
    "plt.subplots_adjust(left=0.15, right=0.99, bottom=0.15, top=0.99)\n",
    "ax.set_yticks(np.arange(conf_matrix.shape[0]) + 0.5, minor=False)\n",
    "ax.set_xticklabels(\"\")\n",
    "ax.set_yticklabels(['Refused T. Deposits', 'Accepted T. Deposits'], fontsize=16, rotation=360)\n",
    "plt.show()"
   ]
  },
  {
   "cell_type": "markdown",
   "metadata": {},
   "source": [
    "## Precision vs. Recall\n",
    "<b>Precision</b>: The total number of \"Yes\" in the label column of the dataset.  How many \"Yes\" labels does this model detect?\n",
    "<b>Recall</b>: How sure is the prediction of our model that the actual label is \"Yes\"."
   ]
  },
  {
   "cell_type": "code",
   "execution_count": 27,
   "metadata": {},
   "outputs": [
    {
     "name": "stdout",
     "output_type": "stream",
     "text": [
      "Precision Score:  0.6471716203259827\n",
      "Recall Score:  0.4114599207558671\n"
     ]
    }
   ],
   "source": [
    "from sklearn.metrics import precision_score, recall_score\n",
    "print('Precision Score: ', precision_score(y_train, y_train_pred))\n",
    "print('Recall Score: ', recall_score(y_train, y_train_pred))"
   ]
  },
  {
   "cell_type": "markdown",
   "metadata": {},
   "source": [
    "<b> Recall-Precision Tradeoff</b>:<br/>\n",
    "As the precision gets higher, the recall decreases and vice versa.  For example, if we increase the precision from 30% to 60%, our model is picking the predictions that the model thinks is 60% sure.  The higher the precision score, the more likely that the model is to miss instances that were actually \"Yes\" versus those that were \"No\"."
   ]
  },
  {
   "cell_type": "code",
   "execution_count": 28,
   "metadata": {},
   "outputs": [
    {
     "data": {
      "text/plain": [
       "0.5030743432084964"
      ]
     },
     "execution_count": 28,
     "metadata": {},
     "output_type": "execute_result"
    }
   ],
   "source": [
    "from sklearn.metrics import f1_score\n",
    "f1_score(y_train, y_train_pred)"
   ]
  },
  {
   "cell_type": "code",
   "execution_count": 29,
   "metadata": {},
   "outputs": [
    {
     "data": {
      "text/plain": [
       "array([-2.20301148])"
      ]
     },
     "execution_count": 29,
     "metadata": {},
     "output_type": "execute_result"
    }
   ],
   "source": [
    "y_scores = grad_clf.decision_function([some_instance])\n",
    "y_scores"
   ]
  },
  {
   "cell_type": "code",
   "execution_count": 30,
   "metadata": {},
   "outputs": [],
   "source": [
    "threshold = 0.09\n",
    "y_some_digit_pred = (y_scores > threshold)"
   ]
  },
  {
   "cell_type": "code",
   "execution_count": 31,
   "metadata": {},
   "outputs": [],
   "source": [
    "y_scores = cross_val_predict(grad_clf, X_train, y_train, cv=3, method='decision_function')\n",
    "log_scores = cross_val_predict(log_reg, X_train, y_train, cv=3, method='predict_proba')\n",
    "rand_y_scores = cross_val_predict(rand_clf, X_train, y_train, cv=3, method='predict_proba')"
   ]
  },
  {
   "cell_type": "code",
   "execution_count": 32,
   "metadata": {},
   "outputs": [],
   "source": [
    "if y_scores.ndim == 2:\n",
    "    y_scores = y_scores[:, 1]\n",
    "if log_scores.ndim == 2:\n",
    "    log_scores = log_scores[:, 1]\n",
    "if rand_y_scores.ndim == 2:\n",
    "    rand_y_scores = rand_y_scores[:, 1]"
   ]
  },
  {
   "cell_type": "code",
   "execution_count": 33,
   "metadata": {},
   "outputs": [
    {
     "data": {
      "text/plain": [
       "(28588,)"
      ]
     },
     "execution_count": 33,
     "metadata": {},
     "output_type": "execute_result"
    }
   ],
   "source": [
    "y_scores.shape"
   ]
  },
  {
   "cell_type": "code",
   "execution_count": 34,
   "metadata": {},
   "outputs": [
    {
     "data": {
      "image/png": "[encoded data removed]",
      "text/plain": [
       "<Figure size 1008x720 with 1 Axes>"
      ]
     },
     "metadata": {
      "needs_background": "light"
     },
     "output_type": "display_data"
    }
   ],
   "source": [
    "from sklearn.metrics import precision_recall_curve\n",
    "precisions, recalls, threshold = precision_recall_curve(y_test, grad_clf.predict_proba(X_test)[:,1])\n",
    "fig, ax = plt.subplots(figsize=(14, 10))\n",
    "plt.plot(threshold, precisions[:-1], \"r--\", label=\"Precisions\")\n",
    "plt.plot(threshold, recalls[:-1], \"#424242\", label=\"Recalls\")\n",
    "plt.title(\"Precision and Recall\\n Tradeoff\", fontsize=20)\n",
    "plt.ylabel(\"Level of Precision and Recall\", fontsize=16)\n",
    "plt.xlabel(\"Thresholds\", fontsize=16)\n",
    "plt.legend(loc='best', fontsize=14)\n",
    "plt.ylim([0, 1])\n",
    "plt.show()"
   ]
  },
  {
   "cell_type": "markdown",
   "metadata": {},
   "source": [
    "### Thresholding"
   ]
  },
  {
   "cell_type": "code",
   "execution_count": 35,
   "metadata": {},
   "outputs": [
    {
     "name": "stdout",
     "output_type": "stream",
     "text": [
      "              precision    recall  f1-score   support\n",
      "\n",
      "           0       0.93      0.97      0.95     25307\n",
      "           1       0.65      0.41      0.50      3281\n",
      "\n",
      "    accuracy                           0.91     28588\n",
      "   macro avg       0.79      0.69      0.73     28588\n",
      "weighted avg       0.90      0.91      0.90     28588\n",
      "\n"
     ]
    }
   ],
   "source": [
    "from sklearn.metrics import classification_report\n",
    "print(classification_report(y_train, y_train_pred))"
   ]
  },
  {
   "cell_type": "code",
   "execution_count": 37,
   "metadata": {},
   "outputs": [
    {
     "name": "stdout",
     "output_type": "stream",
     "text": [
      "Best threshold = -2.311896\n"
     ]
    }
   ],
   "source": [
    "from sklearn.metrics import roc_curve\n",
    "fpr, tpr, thresholds = roc_curve(y_train, y_scores)\n",
    "J = tpr - fpr\n",
    "ix = np.argmax(J)\n",
    "best_thresh = thresholds[ix]\n",
    "print('Best threshold = %f' % (best_thresh))"
   ]
  },
  {
   "cell_type": "markdown",
   "metadata": {},
   "source": [
    "Here we'll be using Youden's J statistic which is defined as:\n",
    "J = tpr - fpr\n",
    "We then use the threshold with the largest J statistic value."
   ]
  },
  {
   "cell_type": "code",
   "execution_count": 38,
   "metadata": {},
   "outputs": [
    {
     "name": "stdout",
     "output_type": "stream",
     "text": [
      "Best threshold = 0.093143\n"
     ]
    }
   ],
   "source": [
    "fpr, tpr, thresholds = roc_curve(y_test, grad_clf.predict_proba(X_test)[:,1])\n",
    "J = tpr - fpr\n",
    "ix = np.argmax(J)\n",
    "best_thresh = thresholds[ix]\n",
    "print('Best threshold = %f' % (best_thresh)) "
   ]
  },
  {
   "cell_type": "markdown",
   "metadata": {},
   "source": [
    "## ROC Curve"
   ]
  },
  {
   "cell_type": "markdown",
   "metadata": {},
   "source": [
    "THe ROC curve tells how well our classifier is classifying between the True Positives and the non-term deposit subscriptions (FP).  The X-axis is the specificity and the Y-axis is the sensitivity.  The closer the line is to the top left corner, the better our model is at separating both classes."
   ]
  },
  {
   "cell_type": "code",
   "execution_count": 45,
   "metadata": {},
   "outputs": [],
   "source": [
    "from sklearn.metrics import roc_curve\n",
    "# Gradient boosting classifier\n",
    "# Logistic Regression\n",
    "# Random Forest\n",
    "grd_fpr, grd_tpr, threshold = roc_curve(y_train, y_scores)\n",
    "log_fpr, log_tpr, log_threshold = roc_curve(y_train, log_scores)\n",
    "rf_fpr, rf_tpr, rf_threshold = roc_curve(y_train, rand_y_scores)"
   ]
  },
  {
   "cell_type": "code",
   "execution_count": 46,
   "metadata": {},
   "outputs": [
    {
     "data": {
      "image/png": "[encoded data removed]",
      "text/plain": [
       "<Figure size 720x720 with 1 Axes>"
      ]
     },
     "metadata": {
      "needs_background": "light"
     },
     "output_type": "display_data"
    }
   ],
   "source": [
    "def graph_roc_curve(false_positive_rate, true_positive_rate, label=None):\n",
    "    plt.figure(figsize=(10, 10))\n",
    "    plt.title(\"ROC Curve \\n Gradient Boosting Classifier\", fontsize=20)\n",
    "    plt.plot(false_positive_rate, true_positive_rate, label=label)\n",
    "    plt.plot([0, 1], [0,1], '#0C8EE0')\n",
    "    plt.axis([0, 1, 0, 1])\n",
    "    plt.xlabel(\"False Positive Rate\", fontsize=16)\n",
    "    plt.ylabel(\"True Positive Rate\", fontsize=16)\n",
    "    \n",
    "graph_roc_curve(grd_fpr, grd_tpr, threshold)\n",
    "plt.show()"
   ]
  },
  {
   "cell_type": "code",
   "execution_count": 47,
   "metadata": {},
   "outputs": [
    {
     "name": "stdout",
     "output_type": "stream",
     "text": [
      "Gradient Boost Classifier Score:  0.9208046252669458\n",
      "Logistic Regression Classifier Score:  0.909941408681519\n",
      "Random Forest Classifier Score:  0.8968544060106176\n"
     ]
    }
   ],
   "source": [
    "print('Gradient Boost Classifier Score: ', roc_auc_score(y_train, y_scores))\n",
    "print('Logistic Regression Classifier Score: ', roc_auc_score(y_train, log_scores))\n",
    "print('Random Forest Classifier Score: ', roc_auc_score(y_train, rand_y_scores))"
   ]
  },
  {
   "cell_type": "code",
   "execution_count": 48,
   "metadata": {},
   "outputs": [
    {
     "data": {
      "image/png": "[encoded data removed]",
      "text/plain": [
       "<Figure size 720x576 with 1 Axes>"
      ]
     },
     "metadata": {
      "needs_background": "light"
     },
     "output_type": "display_data"
    }
   ],
   "source": [
    "def graph_roc_curve_multiple(grd_fpr, grd_tpr, log_fpr, log_tpr, rf_fpr, rf_tpr):\n",
    "    plt.figure(figsize=(10, 8))\n",
    "    plt.title('ROC Curve for \\n Top 3 Classifiers', fontsize=16)\n",
    "    plt.plot(grd_fpr, grd_tpr, label='Gradient Boosting Classifier (Score=92.08%)')\n",
    "    plt.plot(log_fpr, log_tpr, label='Logistic Regression Classifier (Score=90.99%)')\n",
    "    plt.plot(rf_fpr, rf_tpr, label='Random Forest Classifier (Score=89.94%)')\n",
    "    plt.plot([0, 1], [0, 1], 'k--')\n",
    "    plt.axis([0, 1, 0, 1])\n",
    "    plt.xlabel('False Positive Rate', fontsize=16)\n",
    "    plt.ylabel('True Positive Rate', fontsize=16)\n",
    "    plt.annotate('Minimum ROC Score of 50% \\n (This is the minimum score to get)', xy=(0.5, 0.5), xytext=(0.6, 0.3), arrowprops = dict(facecolor='#6E7260', shrink=0.05), )\n",
    "    plt.legend()\n",
    "    \n",
    "graph_roc_curve_multiple(grd_fpr, grd_tpr, log_fpr, log_tpr, rf_fpr, rf_tpr)\n",
    "plt.show()"
   ]
  },
  {
   "cell_type": "code",
   "execution_count": 49,
   "metadata": {},
   "outputs": [
    {
     "data": {
      "text/plain": [
       "array([[0.90051962, 0.09948038]])"
      ]
     },
     "execution_count": 49,
     "metadata": {},
     "output_type": "execute_result"
    }
   ],
   "source": [
    "grad_clf.predict_proba([some_instance])"
   ]
  },
  {
   "cell_type": "code",
   "execution_count": 50,
   "metadata": {},
   "outputs": [
    {
     "data": {
      "text/plain": [
       "array([0])"
      ]
     },
     "execution_count": 50,
     "metadata": {},
     "output_type": "execute_result"
    }
   ],
   "source": [
    "grad_clf.predict([some_instance])"
   ]
  },
  {
   "cell_type": "code",
   "execution_count": 51,
   "metadata": {},
   "outputs": [
    {
     "data": {
      "text/plain": [
       "1"
      ]
     },
     "execution_count": 51,
     "metadata": {},
     "output_type": "execute_result"
    }
   ],
   "source": [
    "y_train[1250]"
   ]
  },
  {
   "cell_type": "code",
   "execution_count": null,
   "metadata": {},
   "outputs": [],
   "source": []
  }
 ],
 "metadata": {
  "kernelspec": {
   "display_name": "Python 3",
   "language": "python",
   "name": "python3"
  },
  "language_info": {
   "codemirror_mode": {
    "name": "ipython",
    "version": 3
   },
   "file_extension": ".py",
   "mimetype": "text/x-python",
   "name": "python",
   "nbconvert_exporter": "python",
   "pygments_lexer": "ipython3",
   "version": "3.8.5"
  }
 },
 "nbformat": 4,
 "nbformat_minor": 4
}
